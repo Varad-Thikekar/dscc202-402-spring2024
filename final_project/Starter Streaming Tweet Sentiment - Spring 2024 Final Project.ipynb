{
 "cells": [
  {
   "cell_type": "markdown",
   "metadata": {
    "application/vnd.databricks.v1+cell": {
     "cellMetadata": {
      "byteLimit": 2048000,
      "rowLimit": 10000
     },
     "inputWidgets": {},
     "nuid": "fc749083-2211-485c-943f-640e198b2c70",
     "showTitle": false,
     "title": ""
    }
   },
   "source": [
    "## DSCC202-402 Data Science at Scale Final Project\n",
    "### Tracking Tweet sentiment at scale using a pretrained transformer (classifier)\n",
    "<p>Consider the following illustration of the end to end system that you will be building.  Each student should do their own work.  The project will demonstrate your understanding of Spark Streaming, the medalion data architecture using Delta Lake, Spark Inference at Scale using an MLflow packaged model as well as Exploritory Data Analysis and System Tracking and Monitoring.</p>\n",
    "<br><br>\n",
    "<img src=\"https://data-science-at-scale.s3.amazonaws.com/images/pipeline.drawio.png\">\n",
    "\n",
    "<p>\n",
    "You will be pulling an updated copy of the course GitHub repositiory: <a href=\"https://github.com/lpalum/dscc202-402-spring2024\">The Repo</a>.  If you are unclear on how to pull an updated copy using the GitHub command line, the following <a href=\"https://techwritingmatters.com/how-to-update-your-forked-repository-on-github\">document</a> is helpful.  Be sure to add the professors and TAs as collaborators on your project. \n",
    "\n",
    "- lpalum@gmail.com GitHub ID: lpalum\n",
    "- ajay.anand@rochester.edu GitHub ID: ajayan12\n",
    "- divyamunot1999@gmail.com GitHub ID: divyamunot\n",
    "- ylong6@u.Rochester.edu GitHub ID: NinaLong2077\n",
    "\n",
    "Once you have updates your fork of the repository you should see the following template project that is resident in the final_project directory.\n",
    "</p>\n",
    "\n",
    "<img src=\"https://data-science-at-scale.s3.amazonaws.com/images/notebooks.drawio.png\">\n",
    "\n",
    "<p>\n",
    "You can then pull your project into the Databrick Workspace using the <a href=\"https://www.databricks.training/step-by-step/importing-courseware-from-github/index.html\">Repos</a> feature.\n",
    "Each student is expected to submit the URL of their project on GitHub with their code checked in on the main/master branch.  This illustration highlights the branching scheme that you may use to work on your code in steps and then merge your submission into your master branch before submitting.\n",
    "</p>\n",
    "<img src=\"https://data-science-at-scale.s3.amazonaws.com/images/github.drawio.png\">\n",
    "<p>\n",
    "Work your way through this notebook which will give you the steps required to submit a complete and compliant project.  The following illustration and associated data dictionary specifies the transformations and data that you are to generate for each step in the medallion pipeline.\n",
    "</p>\n",
    "<br><br>\n",
    "<img src=\"https://data-science-at-scale.s3.amazonaws.com/images/dataframes.drawio.png\">\n",
    "\n",
    "#### Bronze Data - raw ingest\n",
    "- date - string in the source json\n",
    "- user - string in the source json\n",
    "- text - tweet string in the source json\n",
    "- sentiment - the given sentiment of the text as determined by an unknown model that is provided in the source json\n",
    "- source_file - the path of the source json file the this row of data was read from\n",
    "- processing_time - a timestamp of when you read this row from the source json\n",
    "\n",
    "#### Silver Data - Bronze Preprocessing\n",
    "- timestamp - convert date string in the bronze data to a timestamp\n",
    "- mention - every @username mentioned in the text string in the bronze data gets a row in this silver data table.\n",
    "- cleaned_text - the bronze text data with the mentions (@username) removed.\n",
    "- sentiment - the given sentiment that was associated with the text in the bronze table.\n",
    "\n",
    "#### Gold Data - Silver Table Inference\n",
    "- timestamp - the timestamp from the silver data table rows\n",
    "- mention - the mention from the silver data table rows\n",
    "- cleaned_text - the cleaned_text from the silver data table rows\n",
    "- sentiment - the given sentiment from the silver data table rows\n",
    "- predicted_score - score out of 100 from the Hugging Face Sentiment Transformer\n",
    "- predicted_sentiment - string representation of the sentiment\n",
    "- sentiment_id - 0 for negative and 1 for postive associated with the given sentiment\n",
    "- predicted_sentiment_id - 0 for negative and 1 for positive assocaited with the Hugging Face Sentiment Transformer\n",
    "\n",
    "#### Application Data - Gold Table Aggregation\n",
    "- min_timestamp - the oldest timestamp on a given mention (@username)\n",
    "- max_timestamp - the newest timestamp on a given mention (@username)\n",
    "- mention - the user (@username) that this row pertains to.\n",
    "- negative - total negative tweets directed at this mention (@username)\n",
    "- neutral - total neutral tweets directed at this mention (@username)\n",
    "- positive - total positive tweets directed at this mention (@username)\n",
    "\n",
    "When you are designing your approach, one of the main decisions that you will need to make is how you are going to orchestrate the streaming data processing in your pipeline.  There are several valid approaches.  First, you may choose to start the bronze_stream and let it complete (read and append all of the source data) before preceeding and starting up the silver_stream.  This approach has latency associated with it but it will allow your code to proceed in a linear fashion and process all the data by the end of your notebook execution.  Another potential approach is to start all the streams and have a \"watch\" method to determine when the pipeline has processed sufficient or all of the source data before stopping and displaying results.  Both of these approaches are valid and have different implications on how you will trigger your steams and how you will gate the execution of your pipeline.  Think through how you want to proceed and ask questions if you need guidance. The following references may be helpful:\n",
    "- [Spark Structured Streaming Programming Guide](https://spark.apache.org/docs/latest/structured-streaming-programming-guide.html)\n",
    "- [Databricks Autoloader - Cloudfiles](https://docs.databricks.com/en/ingestion/auto-loader/index.html)\n",
    "\n",
    "### Be sure that your project runs end to end when *Run all* is executued on this notebook! (15 Points out of 60)"
   ]
  },
  {
   "cell_type": "code",
   "execution_count": 0,
   "metadata": {
    "application/vnd.databricks.v1+cell": {
     "cellMetadata": {
      "byteLimit": 2048000,
      "rowLimit": 10000
     },
     "inputWidgets": {},
     "nuid": "068f25d0-1387-4342-89cf-ce82a8d614ce",
     "showTitle": true,
     "title": "Pull in the Includes & Utiltites"
    }
   },
   "outputs": [],
   "source": [
    "%run ./includes/includes"
   ]
  },
  {
   "cell_type": "code",
   "execution_count": 0,
   "metadata": {
    "application/vnd.databricks.v1+cell": {
     "cellMetadata": {
      "byteLimit": 2048000,
      "rowLimit": 10000
     },
     "inputWidgets": {},
     "nuid": "b5fd1a24-5409-40ca-8c10-da78c4d7d743",
     "showTitle": false,
     "title": ""
    }
   },
   "outputs": [],
   "source": [
    "# checking if it is empty\n",
    "# dbutils.fs.rm(BRONZE_CHECKPOINT, True)\n",
    "# dbutils.fs.rm(BRONZE_DELTA, True)\n",
    "# dbutils.fs.rm(SILVER_CHECKPOINT, True)\n",
    "# dbutils.fs.rm(SILVER_DELTA, True)\n",
    "# dbutils.fs.rm(GOLD_CHECKPOINT, True)\n",
    "# dbutils.fs.rm(GOLD_DELTA, True)"
   ]
  },
  {
   "cell_type": "code",
   "execution_count": 0,
   "metadata": {
    "application/vnd.databricks.v1+cell": {
     "cellMetadata": {
      "byteLimit": 2048000,
      "rowLimit": 10000
     },
     "inputWidgets": {},
     "nuid": "6512bf1b-50e0-4a4b-84a9-e280a6260b56",
     "showTitle": true,
     "title": "Notebook Control Widgets (maybe helpful)"
    }
   },
   "outputs": [],
   "source": [
    "\"\"\"\n",
    "Adding a widget to the notebook to control the clearing of a previous run.\n",
    "or stopping the active streams using routines defined in the utilities notebook\n",
    "\"\"\"\n",
    "dbutils.widgets.removeAll()\n",
    "\n",
    "dbutils.widgets.dropdown(\"clear_previous_run\", \"No\", [\"No\",\"Yes\"])\n",
    "if (getArgument(\"clear_previous_run\") == \"Yes\"):\n",
    "    clear_previous_run()\n",
    "    print(\"Cleared all previous data.\")\n",
    "\n",
    "dbutils.widgets.dropdown(\"stop_streams\", \"No\", [\"No\",\"Yes\"])\n",
    "if (getArgument(\"stop_streams\") == \"Yes\"):\n",
    "    stop_all_streams()\n",
    "    print(\"Stopped all active streams.\")\n",
    "\n",
    "from delta import *\n",
    "dbutils.widgets.dropdown(\"optimize_tables\", \"No\", [\"No\",\"Yes\"])\n",
    "if (getArgument(\"optimize_tables\") == \"Yes\"):\n",
    "    # Suck up those small files that we have been appending.\n",
    "    DeltaTable.forPath(spark, BRONZE_DELTA).optimize().executeCompaction()\n",
    "    # Suck up those small files that we have been appending.\n",
    "    DeltaTable.forPath(spark, SILVER_DELTA).optimize().executeCompaction()\n",
    "    # Suck up those small files that we have been appending.\n",
    "    DeltaTable.forPath(spark, GOLD_DELTA).optimize().executeCompaction()\n",
    "    print(\"Optimized all of the Delta Tables\")"
   ]
  },
  {
   "cell_type": "markdown",
   "metadata": {
    "application/vnd.databricks.v1+cell": {
     "cellMetadata": {
      "byteLimit": 2048000,
      "rowLimit": 10000
     },
     "inputWidgets": {},
     "nuid": "e8ce7c13-7f8f-4e11-b50c-fdaebbcf3f99",
     "showTitle": false,
     "title": ""
    }
   },
   "source": [
    "## 1.0 Import your libraries here...\n",
    "- Are your shuffle partitions consistent with your cluster and your workload?\n",
    "- Do you have the necessary libraries to perform the required operations in the pipeline/application?"
   ]
  },
  {
   "cell_type": "code",
   "execution_count": 0,
   "metadata": {
    "application/vnd.databricks.v1+cell": {
     "cellMetadata": {
      "byteLimit": 2048000,
      "rowLimit": 10000
     },
     "inputWidgets": {},
     "nuid": "67bafbb7-d34e-4e86-b159-b2e062faa1d0",
     "showTitle": false,
     "title": ""
    }
   },
   "outputs": [],
   "source": [
    "# ENTER YOUR CODE HERE\n",
    "\n",
    "# Q1\n",
    "spark.conf.set(\"spark.sql.shuffle.partitions\", spark.sparkContext.defaultParallelism)\n",
    "\n",
    "# Q2\n",
    "from pyspark.sql.types import StructType, StructField, StringType, TimestampType\n",
    "from pyspark.sql.functions import (\n",
    "    count, isnan, col, when, current_timestamp,\n",
    "    input_file_name, desc, explode, expr,\n",
    "    to_timestamp, regexp_replace\n",
    ")\n",
    "import matplotlib.pyplot as plt\n",
    "import mlflow\n",
    "from sklearn.metrics import (\n",
    "    confusion_matrix, ConfusionMatrixDisplay\n",
    ")\n",
    "\n"
   ]
  },
  {
   "cell_type": "markdown",
   "metadata": {
    "application/vnd.databricks.v1+cell": {
     "cellMetadata": {
      "byteLimit": 2048000,
      "rowLimit": 10000
     },
     "inputWidgets": {},
     "nuid": "2b7624b4-0aa5-46b7-9767-52f462b2c574",
     "showTitle": false,
     "title": ""
    }
   },
   "source": [
    "## 2.0 Use the utility functions to ...\n",
    "- Read the source file directory listing\n",
    "- Count the source files (how many are there?)\n",
    "- print the contents of one of the files"
   ]
  },
  {
   "cell_type": "code",
   "execution_count": 0,
   "metadata": {
    "application/vnd.databricks.v1+cell": {
     "cellMetadata": {
      "byteLimit": 2048000,
      "rowLimit": 10000
     },
     "inputWidgets": {},
     "nuid": "a59749d5-e45d-460f-9be1-33652cda2ea5",
     "showTitle": false,
     "title": ""
    }
   },
   "outputs": [],
   "source": [
    "# ENTER YOUR CODE HERE\n",
    "\n",
    "# Q1\n",
    "df = get_source_listing_df()\n",
    "\n",
    "# Q2\n",
    "number_of_rows = df.count()\n",
    "print(\"The number of source files in S3 bucket are \"+str(number_of_rows))\n",
    "\n",
    "# Q3\n",
    "file_name = df.loc[0,'File Name'] # getting the file name \n",
    "show_s3_file_contents(file_name) # printing the file contents"
   ]
  },
  {
   "cell_type": "markdown",
   "metadata": {
    "application/vnd.databricks.v1+cell": {
     "cellMetadata": {
      "byteLimit": 2048000,
      "rowLimit": 10000
     },
     "inputWidgets": {},
     "nuid": "1676aed7-527f-4ea7-9d3b-52544e8c1e37",
     "showTitle": false,
     "title": ""
    }
   },
   "source": [
    "## 3.0 Transform the Raw Data to Bronze Data using a stream\n",
    "- define the schema for the raw data\n",
    "- setup a read stream using cloudfiles and the source data format\n",
    "- setup a write stream using cloudfiles to append to the bronze delta table\n",
    "- enforce schema\n",
    "- allow a new schema to be merged into the bronze delta table\n",
    "- Use the defined BRONZE_CHECKPOINT and BRONZE_DELTA paths defines in the includes\n",
    "- name your raw to bronze stream as bronze_stream\n",
    "- transform the raw data to the bronze data using the data definition at the top of the notebook"
   ]
  },
  {
   "cell_type": "code",
   "execution_count": 0,
   "metadata": {
    "application/vnd.databricks.v1+cell": {
     "cellMetadata": {
      "byteLimit": 2048000,
      "rowLimit": 10000
     },
     "inputWidgets": {},
     "nuid": "c4e37574-9885-4908-bf97-609d140a8818",
     "showTitle": false,
     "title": ""
    }
   },
   "outputs": [],
   "source": [
    "# ENTER YOUR CODE HERE\n",
    "\n",
    "# Q1\n",
    "schema = StructType([\n",
    "    StructField(\"date\", StringType(), True),\n",
    "    StructField(\"user\", StringType(), True),\n",
    "    StructField(\"text\", StringType(), True),\n",
    "    StructField(\"sentiment\", StringType(), True),\n",
    "    StructField(\"source_file\", StringType(), True),\n",
    "    StructField(\"processing_time\", TimestampType(), True)\n",
    "])\n",
    "\n"
   ]
  },
  {
   "cell_type": "code",
   "execution_count": 0,
   "metadata": {
    "application/vnd.databricks.v1+cell": {
     "cellMetadata": {
      "byteLimit": 2048000,
      "rowLimit": 10000
     },
     "inputWidgets": {},
     "nuid": "a0520236-f057-4c2f-90d4-f6eac6997e18",
     "showTitle": false,
     "title": ""
    }
   },
   "outputs": [],
   "source": [
    "# Q\n",
    "df_stream = (\n",
    "    spark.readStream\n",
    "    .format(\"cloudFiles\")\n",
    "    .option(\"cloudFiles.format\", \"json\")\n",
    "    .option(\"cloudFiles.inferColumnTypes\", \"true\")\n",
    "    .option(\"cloudFiles.schemaLocation\", \"/mnt/delta/schema\")\n",
    "    .schema(schema)\n",
    "    .load(TWEET_SOURCE_PATH)\n",
    "    # .load('/dbfs/mnt/test-tweet-sample')\n",
    ")"
   ]
  },
  {
   "cell_type": "code",
   "execution_count": 0,
   "metadata": {
    "application/vnd.databricks.v1+cell": {
     "cellMetadata": {
      "byteLimit": 2048000,
      "rowLimit": 10000
     },
     "inputWidgets": {},
     "nuid": "62bfe209-8067-4eae-9e7c-150333f62878",
     "showTitle": false,
     "title": ""
    }
   },
   "outputs": [],
   "source": [
    "df_stream = df_stream.withColumn(\"processing_time\", current_timestamp())\n",
    "df_stream = df_stream.withColumn(\"source_file\", input_file_name())"
   ]
  },
  {
   "cell_type": "code",
   "execution_count": 0,
   "metadata": {
    "application/vnd.databricks.v1+cell": {
     "cellMetadata": {
      "byteLimit": 2048000,
      "rowLimit": 10000
     },
     "inputWidgets": {},
     "nuid": "41e7106f-ef1a-460e-9ec6-ebd091ff3ead",
     "showTitle": false,
     "title": ""
    }
   },
   "outputs": [],
   "source": [
    "bronze_stream = (\n",
    "    df_stream.writeStream\n",
    "    .format(\"delta\")\n",
    "    .option(\"mergeSchema\", \"true\")\n",
    "    .outputMode(\"append\")\n",
    "    .option(\"checkpointLocation\", BRONZE_CHECKPOINT)\n",
    "    .queryName(\"bronze_stream\")\n",
    "    .trigger(availableNow=True)\n",
    "    .start(BRONZE_DELTA)\n",
    ")"
   ]
  },
  {
   "cell_type": "code",
   "execution_count": 0,
   "metadata": {
    "application/vnd.databricks.v1+cell": {
     "cellMetadata": {
      "byteLimit": 2048000,
      "rowLimit": 10000
     },
     "inputWidgets": {},
     "nuid": "7f5ed1b4-1efc-4df9-aa53-5a77192c2075",
     "showTitle": false,
     "title": ""
    }
   },
   "outputs": [],
   "source": [
    "bronze_stream.awaitTermination()"
   ]
  },
  {
   "cell_type": "markdown",
   "metadata": {
    "application/vnd.databricks.v1+cell": {
     "cellMetadata": {
      "byteLimit": 2048000,
      "rowLimit": 10000
     },
     "inputWidgets": {},
     "nuid": "9bc3e824-d218-43e5-a43b-4c6dbe31950d",
     "showTitle": false,
     "title": ""
    }
   },
   "source": [
    "## 4.0 Bronze Data Exploratory Data Analysis\n",
    "- How many tweets are captured in your Bronze Table?\n",
    "- Are there any columns that contain Nan or Null values?  If so how many and what will you do in your silver transforms to address this?\n",
    "- Count the number of tweets by each unique user handle and sort the data by descending count.\n",
    "- How many tweets have at least one mention (@) how many tweet have no mentions (@)\n",
    "- Plot a bar chart that shows the top 20 tweeters (users)\n"
   ]
  },
  {
   "cell_type": "code",
   "execution_count": 0,
   "metadata": {
    "application/vnd.databricks.v1+cell": {
     "cellMetadata": {
      "byteLimit": 2048000,
      "rowLimit": 10000
     },
     "inputWidgets": {},
     "nuid": "091ec59c-d968-4acf-b56f-cc9178cd0693",
     "showTitle": false,
     "title": ""
    }
   },
   "outputs": [],
   "source": [
    "# ENTER YOUR CODE HERE\n",
    "\n",
    "# Q1\n",
    "df_bronze = spark.read.format(\"delta\").load(BRONZE_DELTA)\n",
    "number_of_tweets = df_bronze.count()\n",
    "print(\"The number of tweets in the bronze table are \"+str(number_of_tweets))"
   ]
  },
  {
   "cell_type": "code",
   "execution_count": 0,
   "metadata": {
    "application/vnd.databricks.v1+cell": {
     "cellMetadata": {
      "byteLimit": 2048000,
      "rowLimit": 10000
     },
     "inputWidgets": {},
     "nuid": "45ca5be2-6f8f-4a1f-b4a1-fa68ff7ac2f1",
     "showTitle": false,
     "title": ""
    }
   },
   "outputs": [],
   "source": [
    "# Q2\n",
    "print(\"The number of NULL values for every column:\")\n",
    "\n",
    "df_bronze.select([count(when(col(c).isNull(), c)).alias(c) for c in df_bronze.columns]).show()\n",
    "\n",
    "print(\"The number of NAN values for every column:\")\n",
    "df_bronze.select([count(when(isnan(col(c)), c)).alias(c) for c in df_bronze.columns if c !='processing_time']).show()"
   ]
  },
  {
   "cell_type": "code",
   "execution_count": 0,
   "metadata": {
    "application/vnd.databricks.v1+cell": {
     "cellMetadata": {
      "byteLimit": 2048000,
      "rowLimit": 10000
     },
     "inputWidgets": {},
     "nuid": "744eb517-d5cc-4f2b-848a-5c228d6a798f",
     "showTitle": false,
     "title": ""
    }
   },
   "outputs": [],
   "source": [
    "#  Q3\n",
    "twitter_count = df_bronze.groupBy(\"user\").count().orderBy(desc(\"count\"))\n",
    "twitter_count.show(50)"
   ]
  },
  {
   "cell_type": "code",
   "execution_count": 0,
   "metadata": {
    "application/vnd.databricks.v1+cell": {
     "cellMetadata": {
      "byteLimit": 2048000,
      "rowLimit": 10000
     },
     "inputWidgets": {},
     "nuid": "c7b74b1e-7d19-42e4-97ed-628c7e39647d",
     "showTitle": false,
     "title": ""
    }
   },
   "outputs": [],
   "source": [
    "# Q6\n",
    "import seaborn as sns\n",
    "\n",
    "twitter_count = twitter_count.limit(20)  # Extract top 20 rows\n",
    "\n",
    "# Convert the Spark DataFrame to a Pandas DataFrame for plotting\n",
    "twitter_count_pd = twitter_count.toPandas()\n",
    "\n",
    "# Set the style and color palette\n",
    "sns.set_style(\"whitegrid\")\n",
    "sns.set_palette(\"pastel\")\n",
    "\n",
    "# Plotting the bar chart\n",
    "plt.figure(figsize=(10, 6))\n",
    "barplot = sns.barplot(x='user', y='count', data=twitter_count_pd)\n",
    "plt.xlabel('User')\n",
    "plt.ylabel('Tweet Count')\n",
    "plt.title('Top 20 Twitter Users by Tweet Count')\n",
    "plt.xticks(rotation=45, ha='right')  # Rotate x-axis labels for better readability\n",
    "\n",
    "# Adding annotations with the count values on top of each bar\n",
    "for index, row in twitter_count_pd.iterrows():\n",
    "    barplot.text(index, row['count'] + 0.5, row['count'], color='black', ha='center')\n",
    "\n",
    "plt.tight_layout()"
   ]
  },
  {
   "cell_type": "code",
   "execution_count": 0,
   "metadata": {
    "application/vnd.databricks.v1+cell": {
     "cellMetadata": {
      "byteLimit": 2048000,
      "rowLimit": 10000
     },
     "inputWidgets": {},
     "nuid": "8a4820cb-de64-4607-be8f-82685caf6421",
     "showTitle": false,
     "title": ""
    }
   },
   "outputs": [],
   "source": [
    "# Q4\n",
    "\n",
    "df_mentions = df_bronze.withColumn(\"mentions\", when(col(\"text\").contains(\"@\"), 1).otherwise(0))\n",
    "\n",
    "mentions_count = df_mentions.filter(col(\"mentions\") == 1).count()\n",
    "no_mentions_count = df_bronze.count() - mentions_count\n",
    "\n",
    "# Print the results\n",
    "print(\"The number of tweets with mentions \"+str(mentions_count))\n",
    "print(\"The number of tweets with no mentions \"+str(no_mentions_count))"
   ]
  },
  {
   "cell_type": "markdown",
   "metadata": {
    "application/vnd.databricks.v1+cell": {
     "cellMetadata": {
      "byteLimit": 2048000,
      "rowLimit": 10000
     },
     "inputWidgets": {},
     "nuid": "38c290b9-a42a-4551-857b-3f461b8a1be6",
     "showTitle": false,
     "title": ""
    }
   },
   "source": [
    "## 5.0 Transform the Bronze Data to Silver Data using a stream\n",
    "- setup a read stream on your bronze delta table\n",
    "- setup a write stream to append to the silver delta table\n",
    "- Use the defined SILVER_CHECKPOINT and SILVER_DELTA paths in the includes\n",
    "- name your bronze to silver stream as silver_stream\n",
    "- transform the bronze data to the silver data using the data definition at the top of the notebook"
   ]
  },
  {
   "cell_type": "code",
   "execution_count": 0,
   "metadata": {
    "application/vnd.databricks.v1+cell": {
     "cellMetadata": {
      "byteLimit": 2048000,
      "rowLimit": 10000
     },
     "inputWidgets": {},
     "nuid": "4adaf0e4-6d27-4e30-9561-6d14ff741ec7",
     "showTitle": false,
     "title": ""
    }
   },
   "outputs": [],
   "source": [
    "# ENTER YOUR CODE HERE\n",
    "\n",
    "spark.conf.set(\"spark.sql.legacy.timeParserPolicy\",\"LEGACY\") \n",
    "\n",
    "bronze_read_stream = (\n",
    "    spark.readStream\n",
    "    .format('delta')\n",
    "    .load(BRONZE_DELTA)\n",
    ")"
   ]
  },
  {
   "cell_type": "code",
   "execution_count": 0,
   "metadata": {
    "application/vnd.databricks.v1+cell": {
     "cellMetadata": {
      "byteLimit": 2048000,
      "rowLimit": 10000
     },
     "inputWidgets": {},
     "nuid": "8688dc0e-977f-4554-8f10-daf5f0627de0",
     "showTitle": false,
     "title": ""
    }
   },
   "outputs": [],
   "source": [
    "\n",
    "# Transformations\n",
    "\n",
    "# converting the timestamp string to timestamp datatype\n",
    "df_silver = bronze_read_stream.withColumn(\"timestamp\", to_timestamp(\"date\", \"E MMM dd HH:mm:ss z yyyy\"))\n",
    "\n",
    "# creating the mentions column\n",
    "df_silver = df_silver.withColumn(\"mentions\", expr(\"regexp_extract_all(text, '(?<=^|(?<=[^a-zA-Z0-9-_\\\\\\\\.]))@([A-Za-z]+[A-Za-z0-9_]+)', 0)\"))\n",
    "df_silver = df_silver.withColumn(\"mention\", explode(col(\"mentions\"))).drop(\"mentions\")\n",
    "\n",
    "# creating the cleaned text\n",
    "df_silver = df_silver.withColumn(\"cleaned_text\", regexp_replace(\"text\", \"(@\\\\w+)\", \"\"))\n",
    "\n",
    "# dropping the extra columns\n",
    "df_silver = df_silver.drop(\"date\", \"user\", \"text\", \"source_file\", \"processing_time\")"
   ]
  },
  {
   "cell_type": "code",
   "execution_count": 0,
   "metadata": {
    "application/vnd.databricks.v1+cell": {
     "cellMetadata": {
      "byteLimit": 2048000,
      "rowLimit": 10000
     },
     "inputWidgets": {},
     "nuid": "65b029cb-ba45-4625-a9c1-d0d410a4962b",
     "showTitle": false,
     "title": ""
    }
   },
   "outputs": [],
   "source": [
    "\n",
    "silver_stream = df_silver.writeStream \\\n",
    "    .format(\"delta\") \\\n",
    "    .outputMode(\"append\") \\\n",
    "    .option(\"checkpointLocation\", SILVER_CHECKPOINT) \\\n",
    "    .trigger(availableNow=True) \\\n",
    "    .queryName('silver_stream') \\\n",
    "    .start(SILVER_DELTA)\n"
   ]
  },
  {
   "cell_type": "markdown",
   "metadata": {
    "application/vnd.databricks.v1+cell": {
     "cellMetadata": {
      "byteLimit": 2048000,
      "rowLimit": 10000
     },
     "inputWidgets": {},
     "nuid": "9ee38aba-e340-4766-8339-71ef2ecfde3a",
     "showTitle": false,
     "title": ""
    }
   },
   "source": [
    "## 6.0 Transform the Silver Data to Gold Data using a stream\n",
    "- setup a read stream on your silver delta table\n",
    "- setup a write stream to append to the gold delta table\n",
    "- Use the defined GOLD_CHECKPOINT and GOLD_DELTA paths defines in the includes\n",
    "- name your silver to gold stream as gold_stream\n",
    "- transform the silver data to the gold data using the data definition at the top of the notebook\n",
    "- Load the pretrained transformer sentiment classifier from the MODEL_NAME at the production level from the MLflow registry\n",
    "- Use a spark UDF to parallelize the inference across your silver data"
   ]
  },
  {
   "cell_type": "code",
   "execution_count": 0,
   "metadata": {
    "application/vnd.databricks.v1+cell": {
     "cellMetadata": {
      "byteLimit": 2048000,
      "rowLimit": 10000
     },
     "inputWidgets": {},
     "nuid": "31e8949d-c016-44a7-9f03-65f471dfd22d",
     "showTitle": false,
     "title": ""
    }
   },
   "outputs": [],
   "source": [
    "# ENTER YOUR CODE HERE\n",
    "silver_read_stream = (\n",
    "    spark.readStream\n",
    "    .format('delta')\n",
    "    .load(SILVER_DELTA)\n",
    ")"
   ]
  },
  {
   "cell_type": "code",
   "execution_count": 0,
   "metadata": {
    "application/vnd.databricks.v1+cell": {
     "cellMetadata": {
      "byteLimit": 2048000,
      "rowLimit": 10000
     },
     "inputWidgets": {},
     "nuid": "7a43a91b-6af0-44db-9af0-3b1242ec2ad5",
     "showTitle": false,
     "title": ""
    }
   },
   "outputs": [],
   "source": [
    "# Model\n",
    "model_uri = f\"models:/{MODEL_NAME}/Production\"\n",
    "model = mlflow.pyfunc.spark_udf(spark, model_uri=model_uri)"
   ]
  },
  {
   "cell_type": "code",
   "execution_count": 0,
   "metadata": {
    "application/vnd.databricks.v1+cell": {
     "cellMetadata": {
      "byteLimit": 2048000,
      "rowLimit": 10000
     },
     "inputWidgets": {},
     "nuid": "31c8fa58-7d29-4b50-a065-8e4220f49b3b",
     "showTitle": false,
     "title": ""
    }
   },
   "outputs": [],
   "source": [
    "# SIlver to GOld transformation\n",
    "\n",
    "# Add a temporary column for predicted sentiment using a model based on cleaned text\n",
    "df_gold = silver_read_stream.withColumn(\"temp_predicted_sentiment\", model(col(\"cleaned_text\")))\n",
    "\n",
    "# Compute and assign predicted sentiment scores as integer percentages\n",
    "df_gold = df_gold.withColumn(\"predicted_score\", (col(\"temp_predicted_sentiment.score\") * 100).cast(\"int\"))\n",
    "\n",
    "# Assign predicted sentiment labels based on the temporary column\n",
    "df_gold = df_gold.withColumn(\"predicted_sentiment\", col(\"temp_predicted_sentiment.label\"))\n",
    "\n",
    "# Create a binary sentiment identifier based on the original sentiment column\n",
    "df_gold = df_gold.withColumn(\"sentiment_id\", when(col(\"sentiment\") == \"positive\", 1).otherwise(0))\n",
    "\n",
    "# Create a binary predicted sentiment identifier based on the predicted sentiment column\n",
    "df_gold = df_gold.withColumn(\"predicted_sentiment_id\", when(col(\"predicted_sentiment\") == \"POS\", 1).otherwise(0))\n",
    "\n",
    "gold_df = df_gold.drop(\"temp_predicted_sentiment\")"
   ]
  },
  {
   "cell_type": "code",
   "execution_count": 0,
   "metadata": {
    "application/vnd.databricks.v1+cell": {
     "cellMetadata": {
      "byteLimit": 2048000,
      "rowLimit": 10000
     },
     "inputWidgets": {},
     "nuid": "4812c209-fb1d-44cf-b394-53e9c6f92b4f",
     "showTitle": false,
     "title": ""
    }
   },
   "outputs": [],
   "source": [
    "gold_stream = (\n",
    "    df_gold.writeStream\n",
    "    .format(\"delta\")\n",
    "    .outputMode(\"append\")\n",
    "    .option(\"checkpointLocation\", GOLD_CHECKPOINT)\n",
    "    .trigger(availableNow=True)\n",
    "    .queryName(\"siver_stream\")\n",
    "    .start(GOLD_DELTA)\n",
    ")"
   ]
  },
  {
   "cell_type": "code",
   "execution_count": 0,
   "metadata": {
    "application/vnd.databricks.v1+cell": {
     "cellMetadata": {
      "byteLimit": 2048000,
      "rowLimit": 10000
     },
     "inputWidgets": {},
     "nuid": "4383e50b-15ac-454f-80f0-5284d3a2117a",
     "showTitle": false,
     "title": ""
    }
   },
   "outputs": [],
   "source": [
    "gold_stream.awaitTermination()"
   ]
  },
  {
   "cell_type": "markdown",
   "metadata": {
    "application/vnd.databricks.v1+cell": {
     "cellMetadata": {
      "byteLimit": 2048000,
      "rowLimit": 10000
     },
     "inputWidgets": {},
     "nuid": "0494d8b4-5a55-47fc-af12-47325f34a303",
     "showTitle": false,
     "title": ""
    }
   },
   "source": [
    "## 7.0 Capture the accuracy metrics from the gold table in MLflow\n",
    "Store the following in an MLflow experiment run:\n",
    "- Store the precision, recall, and F1-score as MLflow metrics\n",
    "- Store an image of the confusion matrix as an MLflow artifact\n",
    "- Store the mdoel name and the MLflow version that was used as an MLflow parameters\n",
    "- Store the version of the Delta Table (input-silver) as an MLflow parameter"
   ]
  },
  {
   "cell_type": "code",
   "execution_count": 0,
   "metadata": {
    "application/vnd.databricks.v1+cell": {
     "cellMetadata": {
      "byteLimit": 2048000,
      "rowLimit": 10000
     },
     "inputWidgets": {},
     "nuid": "3bb174ad-67e4-4b0a-be36-ff20a760ee8b",
     "showTitle": false,
     "title": ""
    }
   },
   "outputs": [],
   "source": [
    "# ENTER YOUR CODE HERE\n",
    "\n",
    "gold_df = spark.read.format('delta').load(GOLD_DELTA)\n",
    "\n",
    "\n",
    "mlflow.start_run()\n",
    "model_name = MODEL_NAME\n",
    "mlflow_version = mlflow.__version__\n",
    "\n",
    "\n",
    "TP = gold_df.where((col(\"predicted_sentiment_id\") == 1) & (col(\"sentiment_id\") == 1)).count()\n",
    "FP = gold_df.where((col(\"predicted_sentiment_id\") == 1) & (col(\"sentiment_id\") == 0)).count()\n",
    "FN = gold_df.where((col(\"predicted_sentiment_id\") == 0) & (col(\"sentiment_id\") == 1)).count()\n",
    "TN = gold_df.where((col(\"predicted_sentiment_id\") == 0) & (col(\"sentiment_id\") == 0)).count()\n",
    "\n",
    "\n",
    "# Calculate precision, recall, and F1 score\n",
    "precision = TP / (TP + FP) if TP + FP != 0 else 0\n",
    "recall = TP / (TP + FN) if TP + FN != 0 else 0\n",
    "f1_score = 2 * (precision * recall) / (precision + recall) if precision + recall != 0 else 0\n",
    "\n",
    "# Store the precision, recall, and F1-score as MLflow metrics \n",
    "mlflow.log_metric(\"precision\", precision)\n",
    "mlflow.log_metric(\"recall\", recall)\n",
    "mlflow.log_metric(\"f1_score\", f1_score)\n",
    "\n",
    "mlflow.end_run()"
   ]
  },
  {
   "cell_type": "code",
   "execution_count": 0,
   "metadata": {
    "application/vnd.databricks.v1+cell": {
     "cellMetadata": {
      "byteLimit": 2048000,
      "rowLimit": 10000
     },
     "inputWidgets": {},
     "nuid": "8ad00ea6-29cc-4cf9-86f4-c0bebe5d3e83",
     "showTitle": false,
     "title": ""
    }
   },
   "outputs": [],
   "source": [
    "mlflow.end_run()"
   ]
  },
  {
   "cell_type": "code",
   "execution_count": 0,
   "metadata": {
    "application/vnd.databricks.v1+cell": {
     "cellMetadata": {
      "byteLimit": 2048000,
      "rowLimit": 10000
     },
     "inputWidgets": {},
     "nuid": "44bae381-3a36-49d1-92e4-bf79ca3dbc83",
     "showTitle": false,
     "title": ""
    }
   },
   "outputs": [],
   "source": [
    "# Confusion matrix\n",
    "y_true = gold_df.select(\"sentiment_id\").collect()\n",
    "y_pred = gold_df.select(\"predicted_sentiment_id\").collect()\n",
    "conf_mat = confusion_matrix(y_true, y_pred)\n",
    "\n",
    "# Plot\n",
    "fig, ax = plt.subplots(figsize=(8, 6))\n",
    "disp = ConfusionMatrixDisplay(confusion_matrix=conf_mat, display_labels=['Negative', 'Positive'])\n",
    "heatmap = disp.plot(cmap='viridis', ax=ax)\n",
    "plt.xlabel('Predicted Label', fontsize=12)\n",
    "plt.ylabel('True Label', fontsize=12)\n",
    "plt.title('Confusion Matrix', fontsize=14)\n",
    "plt.show()\n",
    "\n",
    "# Add color bar if ax.collections is not empty\n",
    "if len(ax.collections) > 0:\n",
    "    # Add color bar\n",
    "    cbar = ax.collections[0].colorbar\n",
    "    cbar.set_label('Counts', fontsize=10)\n",
    "    cbar.ax.tick_params(labelsize=10)\n",
    "\n",
    "# Save the fancy confusion matrix plot as an image\n",
    "plt.savefig(\"confusion_matrix_fancy.png\", bbox_inches='tight')\n",
    "plt.close()"
   ]
  },
  {
   "cell_type": "code",
   "execution_count": 0,
   "metadata": {
    "application/vnd.databricks.v1+cell": {
     "cellMetadata": {
      "byteLimit": 2048000,
      "rowLimit": 10000
     },
     "inputWidgets": {},
     "nuid": "bca14068-f0f5-4481-a585-378b78f1e10d",
     "showTitle": false,
     "title": ""
    }
   },
   "outputs": [],
   "source": [
    "\n",
    "mlflow.log_artifact(\"confusion_matrix.png\")\n",
    "\n",
    "mlflow.log_param(\"model_name\", model_name)\n",
    "mlflow.log_param(\"mlflow_version\", mlflow_version)\n",
    "\n",
    "deltaTable = DeltaTable.forPath(spark, GOLD_DELTA)\n",
    "\n",
    "history_df = deltaTable.history() \\\n",
    "    .select(\"version\") \\\n",
    "    .orderBy(\"version\", ascending=False)\n",
    "\n",
    "delta_table_version = history_df.collect()[0][0]\n",
    "\n",
    "mlflow.log_param(\"delta_table_version\", delta_table_version)\n",
    "mlflow.end_run()"
   ]
  },
  {
   "cell_type": "markdown",
   "metadata": {
    "application/vnd.databricks.v1+cell": {
     "cellMetadata": {
      "byteLimit": 2048000,
      "rowLimit": 10000
     },
     "inputWidgets": {},
     "nuid": "81e0e2de-b872-4698-81cc-1669646c2183",
     "showTitle": false,
     "title": ""
    }
   },
   "source": [
    "## 8.0 Application Data Processing and Visualization\n",
    "- How many mentions are there in the gold data total?\n",
    "- Count the number of neutral, positive and negative tweets for each mention in new columns\n",
    "- Capture the total for each mention in a new column\n",
    "- Sort the mention count totals in descending order\n",
    "- Plot a bar chart of the top 20 mentions with positive sentiment (the people who are in favor)\n",
    "- Plot a bar chart of the top 20 mentions with negative sentiment (the people who are the vilians)\n",
    "\n",
    "You may want to use the \"Loop Application\" widget to control whether you repeateded display the latest plots while the data comes in from your streams before moving on to the next section and cleaning up your run.\n",
    "\n",
    "*note: A mention is a specific twitter user that has been \"mentioned\" in a tweet with an @user reference."
   ]
  },
  {
   "cell_type": "code",
   "execution_count": 0,
   "metadata": {
    "application/vnd.databricks.v1+cell": {
     "cellMetadata": {
      "byteLimit": 2048000,
      "rowLimit": 10000
     },
     "inputWidgets": {},
     "nuid": "8250667b-eaa5-48a1-90c7-bfe11e666e32",
     "showTitle": false,
     "title": ""
    }
   },
   "outputs": [],
   "source": [
    "# Q1\n",
    "\n",
    "mentions_gold = gold_df.filter(col(\"mention\").isNotNull()).count()\n",
    "print(\"The total numbe rof mentions in the gold data is \"+str(mentions_gold))"
   ]
  },
  {
   "cell_type": "code",
   "execution_count": 0,
   "metadata": {
    "application/vnd.databricks.v1+cell": {
     "cellMetadata": {
      "byteLimit": 2048000,
      "rowLimit": 10000
     },
     "inputWidgets": {},
     "nuid": "260d52bf-16c3-4c32-a8af-6978c48acd85",
     "showTitle": false,
     "title": ""
    }
   },
   "outputs": [],
   "source": [
    "temp_df = gold_df.groupBy(\"mention\").agg(\n",
    "    count(when(col(\"sentiment\") == \"neutral\", True)).alias(\"Neutral\"),\n",
    "    count(when(col(\"sentiment\") == \"positive\", True)).alias(\"Positive\"),\n",
    "    count(when(col(\"sentiment\") == \"negative\", True)).alias(\"Negative\"),\n",
    "    count(\"mention\").alias(\"total_mentions\")\n",
    ").orderBy(\"total_mentions\", ascending=False)"
   ]
  },
  {
   "cell_type": "code",
   "execution_count": 0,
   "metadata": {
    "application/vnd.databricks.v1+cell": {
     "cellMetadata": {
      "byteLimit": 2048000,
      "rowLimit": 10000
     },
     "inputWidgets": {},
     "nuid": "342072ff-1398-4e92-8d55-69c9676d3e25",
     "showTitle": false,
     "title": ""
    }
   },
   "outputs": [],
   "source": [
    "positive_mentions_20 = temp_df.orderBy(\"Positive\", ascending=False).limit(20)\n",
    "negative_mentions_20 = temp_df.orderBy(\"Negative\", ascending=False).limit(20)"
   ]
  },
  {
   "cell_type": "code",
   "execution_count": 0,
   "metadata": {
    "application/vnd.databricks.v1+cell": {
     "cellMetadata": {
      "byteLimit": 2048000,
      "rowLimit": 10000
     },
     "inputWidgets": {},
     "nuid": "5ee65da8-da25-4184-8154-b06d48599e2e",
     "showTitle": false,
     "title": ""
    }
   },
   "outputs": [],
   "source": [
    "import seaborn as sns\n",
    "\n",
    "def plot_mentions(df, title, sentiment):\n",
    "    data = df.select(\"mention\", sentiment).collect()\n",
    "    mentions = [x[\"mention\"] for x in data]\n",
    "    counts = [x[sentiment] for x in data]\n",
    "    \n",
    "    # Set Seaborn style and color palette\n",
    "    sns.set_style(\"whitegrid\")\n",
    "    sns.set_palette(\"pastel\")\n",
    "\n",
    "    # Create the bar plot\n",
    "    plt.figure(figsize=(10, 5))\n",
    "    barplot = sns.barplot(x=mentions, y=counts)\n",
    "    plt.xlabel('Mentions')\n",
    "    plt.ylabel('Counts')\n",
    "    plt.title(title)\n",
    "    plt.xticks(rotation=45)\n",
    "    \n",
    "    # Add annotations with count values on top of each bar\n",
    "    for index, count in enumerate(counts):\n",
    "        plt.text(index, count + 0.5, str(count), ha='center', va='bottom')\n",
    "\n",
    "    plt.tight_layout()\n",
    "    plt.show()\n",
    "\n",
    "# Plot for top 20 positive mentions\n",
    "plot_mentions(positive_mentions_20, 'Top 20 Mentions with Positive Sentiment', 'Positive')\n",
    "\n",
    "# Plot for top 20 negative mentions\n",
    "plot_mentions(negative_mentions_20, 'Top 20 Mentions with Negative Sentiment', 'Negative')\n",
    "\n"
   ]
  },
  {
   "cell_type": "markdown",
   "metadata": {
    "application/vnd.databricks.v1+cell": {
     "cellMetadata": {
      "byteLimit": 2048000,
      "rowLimit": 10000
     },
     "inputWidgets": {},
     "nuid": "5d5add3f-0c13-4d81-86d8-12cf3cfdd2c8",
     "showTitle": false,
     "title": ""
    }
   },
   "source": [
    "## 9.0 Clean up and completion of your pipeline\n",
    "- using the utilities what streams are running? If any.\n",
    "- Stop all active streams\n",
    "- print out the elapsed time of your notebook."
   ]
  },
  {
   "cell_type": "code",
   "execution_count": 0,
   "metadata": {
    "application/vnd.databricks.v1+cell": {
     "cellMetadata": {
      "byteLimit": 2048000,
      "rowLimit": 10000
     },
     "inputWidgets": {},
     "nuid": "0304e685-c26e-447d-b230-c37266f30003",
     "showTitle": false,
     "title": ""
    }
   },
   "outputs": [],
   "source": [
    "# ENTER YOUR CODE HERE\n",
    "\n",
    "# from utlities\n",
    "show_active_streams()\n",
    "stop_all_streams()"
   ]
  },
  {
   "cell_type": "code",
   "execution_count": 0,
   "metadata": {
    "application/vnd.databricks.v1+cell": {
     "cellMetadata": {
      "byteLimit": 2048000,
      "rowLimit": 10000
     },
     "inputWidgets": {},
     "nuid": "ea759fc8-1d78-4d6d-b571-e2e256448b76",
     "showTitle": false,
     "title": ""
    }
   },
   "outputs": [],
   "source": [
    "# Get the notebooks ending time note START_TIME was established in the include file when the notebook started.\n",
    "END_TIME = time.time()\n",
    "\n",
    "elapsed_time = END_TIME - START_TIME\n",
    "minutes = int(elapsed_time // 60)\n",
    "seconds = elapsed_time % 60\n",
    "print(\"Time Taken: {} minutes and {:.2f} seconds\".format(minutes, seconds))\n"
   ]
  },
  {
   "cell_type": "markdown",
   "metadata": {
    "application/vnd.databricks.v1+cell": {
     "cellMetadata": {
      "byteLimit": 2048000,
      "rowLimit": 10000
     },
     "inputWidgets": {},
     "nuid": "b88fc0e5-f50c-4ed1-9480-16a4c8a44b30",
     "showTitle": false,
     "title": ""
    }
   },
   "source": [
    "## 10.0 How Optimized is your Spark Application (Grad Students Only)\n",
    "Graduate students (registered for the DSCC-402 section of the course) are required to do this section.  This is a written analysis using the Spark UI (link to screen shots) that support your analysis of your pipelines execution and what is driving its performance.\n",
    "Recall that Spark Optimization has 5 significant dimensions of considertation:\n",
    "- Spill: write to executor disk due to lack of memory\n",
    "- Skew: imbalance in partition size\n",
    "- Shuffle: network io moving data between executors (wide transforms)\n",
    "- Storage: inefficiency due to disk storage format (small files, location)\n",
    "- Serialization: distribution of code segments across the cluster\n",
    "\n",
    "Comment on each of the dimentions of performance and how your impelementation is or is not being affected.  Use specific information in the Spark UI to support your description.  \n",
    "\n",
    "Note: you can take sreenshots of the Spark UI from your project runs in databricks and then link to those pictures by storing them as a publicly accessible file on your cloud drive (google, one drive, etc.)\n",
    "\n",
    "References:\n",
    "- [Spark UI Reference Reference](https://spark.apache.org/docs/latest/web-ui.html#web-ui)\n",
    "- [Spark UI Simulator](https://www.databricks.training/spark-ui-simulator/index.html)"
   ]
  },
  {
   "cell_type": "markdown",
   "metadata": {
    "application/vnd.databricks.v1+cell": {
     "cellMetadata": {
      "byteLimit": 2048000,
      "rowLimit": 10000
     },
     "inputWidgets": {},
     "nuid": "a0a5707d-a5ca-4e87-9e74-3b13d00337b0",
     "showTitle": false,
     "title": ""
    }
   },
   "source": [
    "### ENTER YOUR MARKDOWN HERE"
   ]
  },
  {
   "cell_type": "markdown",
   "metadata": {
    "application/vnd.databricks.v1+cell": {
     "cellMetadata": {},
     "inputWidgets": {},
     "nuid": "a88ca59c-b993-4d47-9b18-fd6b590576a0",
     "showTitle": false,
     "title": ""
    }
   },
   "source": [
    "Spill: It refers to the process of writing intermediate data to disk during the execution of a computation job. This can happen when the amount of data being processed exceeds the available memory resources. \n",
    "In the Spark UI for my project, I do not see a Spill as shown in the below screenshot \n",
    "<img src=\"https://drive.google.com/thumbnail?id=1wsEA_xir9Tmvcb_3HKtgsuRgu5jiOw1O&sz=w2000\">\n",
    "\n",
    "\n",
    "I would have expected it to show up in the Spark UI, as mentioned in the following picture I have taken from Medium (https://medium.com/road-to-data-engineering/spark-performance-optimization-series-2-spill-685126e9d21f#:~:text=→%20On%20the%20details%20page%20of%20a%20specific%20stage%20in%20Spark%20UI.&text=→%20Also%20you%20can%20see,query%20plan%20or%20query%20details.)\n",
    "<img src=\"https://drive.google.com/thumbnail?id=1SrfA_lhYBKW2XawBvbNIjzVVUdQiDqDv&sz=w2000\">\n",
    "\n",
    "The memory alloted to us in the cluster was enough to handle the 200000 tweets in the S3 bucket.\n"
   ]
  },
  {
   "cell_type": "markdown",
   "metadata": {
    "application/vnd.databricks.v1+cell": {
     "cellMetadata": {},
     "inputWidgets": {},
     "nuid": "11e1d0df-ff19-4e12-9fbd-2a8f6c9ac7a4",
     "showTitle": false,
     "title": ""
    }
   },
   "source": [
    "Skew: It refers to data skew. Data skew occurs when the data distribution is uneven across the processing nodes or partitions, leading to certain nodes or partitions having significantly more data to process than others. \n",
    "We have set the spark.sql.shuffle.partitions to spark.sparkContext.defaultParallelism that can help mitigate data skew to some extent by ensuring that the number of partitions created during shuffling aligns with the available resources (cores) in the cluster.\n",
    "\n",
    "We have these different jobs with differrent processing time as shown below:\n",
    "<img src=\"https://drive.google.com/thumbnail?id=1SgHWSkLn8o3m3NEIkPb6j4aYexfk04B7&sz=w2000\">\n",
    "\n",
    "We can see in the following snapshot that the median is 32 min and the max is 42 min, which is less difference. We can say that it does not have skew. \n",
    "\n",
    "Taking an example from Medium - \n",
    "<img src=\"https://drive.google.com/thumbnail?id=1Vw0QAePI8_Xf6Q_fQEJiGp9x8W1LDfpA&sz=w2000\">\n",
    "The median is 50 ms and the max is 7 sec therefore it has a lot of skew."
   ]
  },
  {
   "cell_type": "markdown",
   "metadata": {
    "application/vnd.databricks.v1+cell": {
     "cellMetadata": {},
     "inputWidgets": {},
     "nuid": "a6de9ad8-cb13-4743-8dd8-518d74ba68f6",
     "showTitle": false,
     "title": ""
    }
   },
   "source": [
    "Shuffle: The operations involve the redistribution of data across partitions or nodes in a cluster during certain transformations and actions. This redistribution is necessary for tasks like joins, aggregations, and sorting, where data from multiple partitions or nodes needs to be combined or reorganized.\n",
    "\n",
    "As we can in the following snapshot we have shuffle:\n",
    "<img src=\"https://drive.google.com/thumbnail?id=1SD_gVv1vLPSpqjznjo6XAK6MAE06g2Nn&sz=w2000\">\n",
    "\n",
    "This can be attributed to the groupBy, OrderBy, and Aggregate functions which are wide transformation. \n",
    "To enhance data movement efficiency among partitions, we can adjust the number of shuffle partitions to be a multiple of the available core count."
   ]
  },
  {
   "cell_type": "markdown",
   "metadata": {
    "application/vnd.databricks.v1+cell": {
     "cellMetadata": {},
     "inputWidgets": {},
     "nuid": "1a52f194-a9c1-4195-b427-ad24129b83fc",
     "showTitle": false,
     "title": ""
    }
   },
   "source": [
    "Storage: Storing data as many small files can lead to inefficiencies in storage and processing. This is known as the \"small files problem.\" By optimizing disk storage format, reducing the number of small files, organizing storage locations effectively, and leveraging efficient file formats, Databricks users can improve storage efficiency.\n",
    "\n",
    "I am not able to see the storage information in the Spark UI as shown below:\n",
    "\n",
    "<img src=\"https://drive.google.com/thumbnail?id=1wAUOVRT9wUrl2Z5Pp99-G1WS2ay7Y1_N&sz=w2000\">\n",
    "\n",
    "As given in the snapshot below taken from Apache Spark website:\n",
    "<img src=\"https://drive.google.com/thumbnail?id=1EggjU34b3wRXE9xkX0Tl7TcwhKJp3zs9&sz=w2000\">\n",
    "\n",
    "We can find two RDDs listed in the Storage tab and basic information like storage level, number of partitions and memory overhead are provided. \n",
    "\n",
    "The S3 bucket stores a large number of small files but they are stored efficiently in the bronze, silver and gold tables."
   ]
  },
  {
   "cell_type": "markdown",
   "metadata": {
    "application/vnd.databricks.v1+cell": {
     "cellMetadata": {},
     "inputWidgets": {},
     "nuid": "a8797b15-4336-41eb-b633-8ae1e10aa97b",
     "showTitle": false,
     "title": ""
    }
   },
   "source": [
    "Serialization: It refers to the process of serializing or packaging code segments (such as functions, closures, or variables) in a format that can be distributed and executed across the nodes in a distributed computing environment.\n",
    "\n",
    "The serialized tasks can be seen in the below snapshot:\n",
    "<img src=\"https://drive.google.com/thumbnail?id=1pLOQXKMNUFT6bYHVZOQHbql2Io7TTIzg&sz=w2000\">\n",
    "\n",
    "The above directed acyclic graph (DAG) of this stage has vertices which represent the RDDs or DataFrames and the edges represent an operation to be applied. \n",
    "\n",
    "The event timeline with different tasks and their respective run times is shown below:\n",
    "<img src=\"https://drive.google.com/thumbnail?id=18ptUwl5cgEqrTicl2KYfeLy4_cq10rcb&sz=w2000\">\n"
   ]
  }
 ],
 "metadata": {
  "application/vnd.databricks.v1+notebook": {
   "dashboards": [],
   "language": "python",
   "notebookMetadata": {
    "mostRecentlyExecutedCommandWithImplicitDF": {
     "commandId": -1,
     "dataframes": [
      "_sqldf"
     ]
    },
    "pythonIndentUnit": 4,
    "widgetLayout": [
     {
      "breakBefore": false,
      "name": "clear_previous_run",
      "width": 203
     },
     {
      "breakBefore": false,
      "name": "stop_streams",
      "width": 203
     }
    ]
   },
   "notebookName": "Starter Streaming Tweet Sentiment - Spring 2024 Final Project",
   "widgets": {
    "clear_previous_run": {
     "currentValue": "Yes",
     "nuid": "11b43403-c70f-41ef-ab0e-41172583baaa",
     "typedWidgetInfo": null,
     "widgetInfo": {
      "widgetType": "dropdown",
      "defaultValue": "No",
      "label": null,
      "name": "clear_previous_run",
      "options": {
       "widgetType": "dropdown",
       "autoCreated": null,
       "choices": [
        "No",
        "Yes"
       ]
      }
     }
    },
    "optimize_tables": {
     "currentValue": "No",
     "nuid": "d27f2950-3146-4010-8bc6-58c47a93e7a9",
     "typedWidgetInfo": null,
     "widgetInfo": {
      "widgetType": "dropdown",
      "defaultValue": "No",
      "label": null,
      "name": "optimize_tables",
      "options": {
       "widgetType": "dropdown",
       "autoCreated": null,
       "choices": [
        "No",
        "Yes"
       ]
      }
     }
    },
    "stop_streams": {
     "currentValue": "No",
     "nuid": "d70a2190-266e-473c-86a7-84f7bf56b386",
     "typedWidgetInfo": null,
     "widgetInfo": {
      "widgetType": "dropdown",
      "defaultValue": "No",
      "label": null,
      "name": "stop_streams",
      "options": {
       "widgetType": "dropdown",
       "autoCreated": null,
       "choices": [
        "No",
        "Yes"
       ]
      }
     }
    }
   }
  }
 },
 "nbformat": 4,
 "nbformat_minor": 0
}
